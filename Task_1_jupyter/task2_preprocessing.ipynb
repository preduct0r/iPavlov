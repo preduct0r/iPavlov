{
  "nbformat": 4,
  "nbformat_minor": 0,
  "metadata": {
    "kernelspec": {
      "name": "python3",
      "display_name": "Python 3"
    },
    "language_info": {
      "codemirror_mode": {
        "name": "ipython",
        "version": 3
      },
      "file_extension": ".py",
      "mimetype": "text/x-python",
      "name": "python",
      "nbconvert_exporter": "python",
      "pygments_lexer": "ipython3",
      "version": "3.6.10"
    },
    "colab": {
      "name": "task2_preprocessing.ipynb",
      "provenance": [],
      "collapsed_sections": []
    },
    "accelerator": "GPU"
  },
  "cells": [
    {
      "cell_type": "markdown",
      "metadata": {
        "id": "JLRCZoSLlO9h",
        "colab_type": "text"
      },
      "source": [
        "# Assignment 1.2: Word2vec preprocessing (20 points)"
      ]
    },
    {
      "cell_type": "markdown",
      "metadata": {
        "id": "JH0MWrA7lO9l",
        "colab_type": "text"
      },
      "source": [
        "Preprocessing is not the most exciting part of NLP, but it is still one of the most important ones. Your task is to preprocess raw text (you can use your own, or [this one](http://mattmahoney.net/dc/text8.zip). For this task text preprocessing mostly consists of:\n",
        "\n",
        "1. cleaning (mostly, if your dataset is from social media or parsed from the internet)\n",
        "1. tokenization\n",
        "1. building the vocabulary and choosing its size. Use only high-frequency words, change all other words to UNK or handle it in your own manner. You can use `collections.Counter` for that.\n",
        "1. assigning each token a number (numericalization). In other words, make word2index и index2word objects.\n",
        "1. data structuring and batching - make X and y matrices generator for word2vec (explained in more details below)\n",
        "\n",
        "**ATTN!:** If you use your own data, please, attach a download link. \n",
        "\n",
        "Your goal is to make **Batcher** class which returns two numpy tensors with word indices. It should be possible to use one for word2vec training. You can implement batcher for Skip-Gram or CBOW architecture, the picture below can be helpful to remember the difference.\n",
        "\n",
        "![text](https://raw.githubusercontent.com/deepmipt/deep-nlp-seminars/651804899d05b96fc72b9474404fab330365ca09/seminar_02/pics/architecture.png)\n",
        "\n",
        "There are several ways to do it right. Shapes could be `x_batch.shape = (batch_size, 2*window_size)`, `y_batch.shape = (batch_size,)` for CBOW or `(batch_size,)`, `(batch_size, 2*window_size)` for Skip-Gram. You should **not** do negative sampling here.\n",
        "\n",
        "They should be adequately parametrized: CBOW(window_size, ...), SkipGram(window_size, ...). You should implement only one batcher in this task; and it's up to you which one to chose.\n",
        "\n",
        "Useful links:\n",
        "1. [Word2Vec Tutorial - The Skip-Gram Model](http://mccormickml.com/2016/04/19/word2vec-tutorial-the-skip-gram-model/)\n",
        "1. [Efficient Estimation of Word Representations in Vector Space](https://arxiv.org/pdf/1301.3781.pdf)\n",
        "1. [Distributed Representations of Words and Phrases and their Compositionality](http://papers.nips.cc/paper/5021-distributed-representations-of-words-and-phrases-and-their-compositionality.pdf)\n",
        "\n",
        "You can write the code in this notebook, or in a separate file. It can be reused for the next task. The result of your work should represent that your batch has a proper structure (right shapes) and content (words should be from one context, not some random indices). To show that, translate indices back to words and print them to show something like this:\n",
        "\n",
        "```\n",
        "text = ['first', 'used', 'against', 'early', 'working', 'class', 'radicals', 'including']\n",
        "\n",
        "window_size = 2\n",
        "\n",
        "# CBOW:\n",
        "indices_to_words(x_batch) = \\\n",
        "        [['first', 'used', 'early', 'working'],\n",
        "        ['used', 'against', 'working', 'class'],\n",
        "        ['against', 'early', 'class', 'radicals'],\n",
        "        ['early', 'working', 'radicals', 'including']]\n",
        "\n",
        "indices_to_words(labels_batch) = ['against', 'early', 'working', 'class']\n",
        "```"
      ]
    },
    {
      "cell_type": "code",
      "metadata": {
        "id": "d52UVHydKfSe",
        "colab_type": "code",
        "colab": {}
      },
      "source": [
        "import numpy as np\n",
        "from torch.utils.data import DataLoader, Dataset\n",
        "from collections import Counter"
      ],
      "execution_count": 0,
      "outputs": []
    },
    {
      "cell_type": "code",
      "metadata": {
        "id": "moJDBenKlO9n",
        "colab_type": "code",
        "outputId": "6c6e5ab7-f016-433d-d0f3-5c410beb1452",
        "colab": {
          "base_uri": "https://localhost:8080/",
          "height": 125
        }
      },
      "source": [
        "from google.colab import drive\n",
        "drive.mount('/content/gdrive')\n",
        "with open(\"/content/gdrive/My Drive/DeepPavlov/text8/text8\",\"r\") as f:\n",
        "  data = f.read()"
      ],
      "execution_count": 2,
      "outputs": [
        {
          "output_type": "stream",
          "text": [
            "Go to this URL in a browser: https://accounts.google.com/o/oauth2/auth?client_id=947318989803-6bn6qk8qdgf4n4g3pfee6491hc0brc4i.apps.googleusercontent.com&redirect_uri=urn%3aietf%3awg%3aoauth%3a2.0%3aoob&response_type=code&scope=email%20https%3a%2f%2fwww.googleapis.com%2fauth%2fdocs.test%20https%3a%2f%2fwww.googleapis.com%2fauth%2fdrive%20https%3a%2f%2fwww.googleapis.com%2fauth%2fdrive.photos.readonly%20https%3a%2f%2fwww.googleapis.com%2fauth%2fpeopleapi.readonly\n",
            "\n",
            "Enter your authorization code:\n",
            "··········\n",
            "Mounted at /content/gdrive\n"
          ],
          "name": "stdout"
        }
      ]
    },
    {
      "cell_type": "code",
      "metadata": {
        "id": "l8dih1rVOjDc",
        "colab_type": "code",
        "colab": {}
      },
      "source": [
        "from string import punctuation\n",
        "corpus = ''.join([c.lower() for c in data if c not in punctuation+'«»']).split()"
      ],
      "execution_count": 0,
      "outputs": []
    },
    {
      "cell_type": "code",
      "metadata": {
        "id": "Q5BTFj-wQM9e",
        "colab_type": "code",
        "colab": {}
      },
      "source": [
        "# считаем слова и сортируем по убыванию количества вхождений\n",
        "def counter(words):\n",
        "  count_words = Counter(words)\n",
        "  total_words = len(words)\n",
        "  sorted_words = count_words.most_common(total_words)\n",
        "  print('total words: {}'.format(total_words))\n",
        "  print(sorted_words[150:200])\n",
        "  less_10, more_10 = 0, 0\n",
        "  for word,freq in sorted_words:\n",
        "    if freq>10:\n",
        "        more_10+=1\n",
        "    if freq<10:\n",
        "        less_10+=1\n",
        "  print('more then 10: {}, less then 10: {}'.format(more_10,less_10))\n",
        "  return sorted_words, more_10"
      ],
      "execution_count": 0,
      "outputs": []
    },
    {
      "cell_type": "code",
      "metadata": {
        "id": "xA0lKHVFQOW6",
        "colab_type": "code",
        "colab": {}
      },
      "source": [
        "# назначаю каждому токену номер\n",
        "def make_dicts(sorted_words, dimensionality):\n",
        "  word2index = {w:i+1 for i, (w,c) in enumerate(sorted_words[:(dimensionality-1)])}   \n",
        "  word2index['UNK'] = 0\n",
        "  index2word = {i+1:w for i, (w,c) in enumerate(sorted_words[:(dimensionality-1)])}\n",
        "  index2word[0] = 'UNK'\n",
        "  return word2index, index2word"
      ],
      "execution_count": 0,
      "outputs": []
    },
    {
      "cell_type": "code",
      "metadata": {
        "id": "Ubzrwc-GUmz9",
        "colab_type": "code",
        "colab": {}
      },
      "source": [
        "class Data_Processing_CBOW():\n",
        "  def __init__(self, corpus, window_size):\n",
        "    self.corpus = corpus\n",
        "    self.window_size = window_size\n",
        "    self.dimensionality = np.nan\n",
        "\n",
        "\n",
        "  def get_data(self):\n",
        "    sorted_words, self.dimensionality = counter(self.corpus)\n",
        "    word2index, index2word = make_dicts(sorted_words, self.dimensionality)\n",
        "    # собственно делаем X,y\n",
        "    X,y = [],[]\n",
        "    num_sent = [word2index[x] if x in word2index.keys() else 0 for x in self.corpus]\n",
        "    for cur_idx,num in enumerate(num_sent[self.window_size:-self.window_size]):\n",
        "      idx = cur_idx+self.window_size\n",
        "      y.append(num)\n",
        "      X.append(num_sent[idx-self.window_size:idx]+num_sent[idx+1:idx+self.window_size+1])\n",
        "\n",
        "    return np.array(X), np.array(y), word2index, index2word"
      ],
      "execution_count": 0,
      "outputs": []
    },
    {
      "cell_type": "code",
      "metadata": {
        "id": "LrBkwJGYela7",
        "colab_type": "code",
        "outputId": "07625c85-8f48-44da-af72-d5f4822385e3",
        "colab": {
          "base_uri": "https://localhost:8080/",
          "height": 90
        }
      },
      "source": [
        "X, y, word2index, index2word = Data_Processing_CBOW(corpus, 5).get_data()"
      ],
      "execution_count": 14,
      "outputs": [
        {
          "output_type": "stream",
          "text": [
            "total words: 17005207\n",
            "[('french', 8736), ('before', 8700), ('general', 8659), ('what', 8581), ('t', 8491), ('against', 8432), ('n', 8372), ('high', 8337), ('links', 8312), ('could', 8304), ('based', 8244), ('those', 8209), ('now', 8206), ('second', 8110), ('de', 8002), ('music', 7987), ('another', 7933), ('large', 7898), ('she', 7896), ('f', 7878), ('external', 7862), ('german', 7858), ('different', 7797), ('modern', 7790), ('great', 7770), ('do', 7763), ('common', 7698), ('set', 7682), ('list', 7672), ('south', 7628), ('series', 7611), ('major', 7585), ('game', 7553), ('power', 7522), ('long', 7488), ('country', 7481), ('king', 7456), ('law', 7435), ('group', 7417), ('film', 7400), ('still', 7378), ('until', 7368), ('north', 7328), ('international', 7262), ('term', 7219), ('we', 7118), ('end', 7113), ('book', 7110), ('found', 7043), ('own', 7034)]\n",
            "more then 10: 44611, less then 10: 206720\n"
          ],
          "name": "stdout"
        }
      ]
    },
    {
      "cell_type": "code",
      "metadata": {
        "id": "jU5a7mjnKXm3",
        "colab_type": "code",
        "colab": {}
      },
      "source": [
        "class My_Dataset(Dataset):\n",
        "    def __init__(self, x, y):\n",
        "        self.x = x\n",
        "        self.y = y\n",
        "\n",
        "    def __len__(self):\n",
        "        return len(self.y)\n",
        "\n",
        "    def __getitem__(self, idx):\n",
        "        return self.x[idx, :], self.y[idx]"
      ],
      "execution_count": 0,
      "outputs": []
    },
    {
      "cell_type": "code",
      "metadata": {
        "id": "k2mFC38vKkOE",
        "colab_type": "code",
        "colab": {}
      },
      "source": [
        "batch_size=512\n",
        "batcher_train = DataLoader(My_Dataset(X, y), batch_size=batch_size, shuffle=False)"
      ],
      "execution_count": 0,
      "outputs": []
    }
  ]
}