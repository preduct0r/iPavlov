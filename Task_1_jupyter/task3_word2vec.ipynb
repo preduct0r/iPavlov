{
 "nbformat": 4,
 "nbformat_minor": 0,
 "metadata": {
  "colab": {
   "name": "task3_word2vec.ipynb",
   "provenance": [],
   "collapsed_sections": [],
   "machine_shape": "hm"
  },
  "kernelspec": {
   "name": "python3",
   "display_name": "Python 3"
  },
  "accelerator": "GPU",
  "pycharm": {
   "stem_cell": {
    "cell_type": "raw",
    "source": [],
    "metadata": {
     "collapsed": false
    }
   }
  }
 },
 "cells": [
  {
   "cell_type": "code",
   "metadata": {
    "id": "CfxvMHvvwRPk",
    "colab_type": "code",
    "colab": {},
    "pycharm": {
     "is_executing": false
    }
   },
   "source": [
    "import torch\n",
    "from torch import cuda\n",
    "import torch.nn as nn\n",
    "import torch.optim as optim\n",
    "from torch.utils.data import DataLoader, Dataset\n",
    "from torch.autograd import Variable\n",
    "from torch.nn import functional as F\n",
    "\n",
    "import numpy as np\n",
    "import pandas as pd\n",
    "\n",
    "from string import punctuation\n",
    "from collections import Counter\n",
    "from tqdm import tqdm\n",
    "import pickle"
   ],
   "execution_count": 4,
   "outputs": []
  },
  {
   "cell_type": "code",
   "metadata": {
    "id": "6DSLobGawaKO",
    "colab_type": "code",
    "outputId": "4fb7c98a-f0be-4033-9ad2-eeb9b6350f7e",
    "colab": {
     "base_uri": "https://localhost:8080/",
     "height": 125
    },
    "pycharm": {
     "is_executing": false
    }
   },
   "source": [
    "with open(r\"C:\\Users\\Andrey\\Google Диск\\DeepPavlov\\text8\",\"r\") as f:\n",
    "  data = f.read()"
   ],
   "execution_count": 11,
   "outputs": [
    {
     "traceback": [
      "\u001b[1;31m---------------------------------------------------------------------------\u001b[0m",
      "\u001b[1;31mPermissionError\u001b[0m                           Traceback (most recent call last)",
      "\u001b[1;32m<ipython-input-11-3b114cd342b4>\u001b[0m in \u001b[0;36m<module>\u001b[1;34m\u001b[0m\n\u001b[1;32m----> 1\u001b[1;33m \u001b[1;32mwith\u001b[0m \u001b[0mopen\u001b[0m\u001b[1;33m(\u001b[0m\u001b[1;34mr\"C:\\Users\\Andrey\\Google Диск\\DeepPavlov\\text8\"\u001b[0m\u001b[1;33m,\u001b[0m\u001b[1;34m\"r\"\u001b[0m\u001b[1;33m)\u001b[0m \u001b[1;32mas\u001b[0m \u001b[0mf\u001b[0m\u001b[1;33m:\u001b[0m\u001b[1;33m\u001b[0m\u001b[1;33m\u001b[0m\u001b[0m\n\u001b[0m\u001b[0;32m      2\u001b[0m   \u001b[0mdata\u001b[0m \u001b[1;33m=\u001b[0m \u001b[0mf\u001b[0m\u001b[1;33m.\u001b[0m\u001b[0mread\u001b[0m\u001b[1;33m(\u001b[0m\u001b[1;33m)\u001b[0m\u001b[1;33m\u001b[0m\u001b[1;33m\u001b[0m\u001b[0m\n\u001b[0;32m      3\u001b[0m \u001b[1;33m\u001b[0m\u001b[0m\n",
      "\u001b[1;31mPermissionError\u001b[0m: [Errno 13] Permission denied: 'C:\\\\Users\\\\Andrey\\\\Google Диск\\\\DeepPavlov\\\\text8'"
     ],
     "ename": "PermissionError",
     "evalue": "[Errno 13] Permission denied: 'C:\\\\Users\\\\Andrey\\\\Google Диск\\\\DeepPavlov\\\\text8'",
     "output_type": "error"
    }
   ]
  },
  {
   "cell_type": "code",
   "metadata": {
    "id": "uAUKgtOGTw3s",
    "colab_type": "code",
    "colab": {}
   },
   "source": [
    "from string import punctuation\n",
    "corpus = ''.join([c.lower() for c in data if c not in punctuation+'«»']).split()"
   ],
   "execution_count": 0,
   "outputs": []
  },
  {
   "cell_type": "code",
   "metadata": {
    "id": "9-4pGLGvqbdi",
    "colab_type": "code",
    "colab": {}
   },
   "source": [
    "# считаем слова и сортируем по убыванию количества вхождений\n",
    "def counter(words):\n",
    "  count_words = Counter(words)\n",
    "  total_words = len(words)\n",
    "  sorted_words = count_words.most_common(total_words)\n",
    "  print('total words: {}'.format(total_words))\n",
    "  print(sorted_words[150:200])\n",
    "  less_10, more_10 = 0, 0\n",
    "  for word,freq in sorted_words:\n",
    "    if freq>10:\n",
    "        more_10+=1\n",
    "    if freq<10:\n",
    "        less_10+=1\n",
    "  print('more then 10: {}, less then 10: {}'.format(more_10,less_10))\n",
    "  return sorted_words, more_10\n",
    "\n",
    "\n",
    "# назначаю каждому токену номер\n",
    "def make_dicts(sorted_words, dimensionality):\n",
    "  word2index = {w:i+1 for i, (w,c) in enumerate(sorted_words[:(dimensionality-1)])}   \n",
    "  word2index['UNK'] = 0\n",
    "  index2word = {i+1:w for i, (w,c) in enumerate(sorted_words[:(dimensionality-1)])}\n",
    "  index2word[0] = 'UNK'\n",
    "  return word2index, index2word\n",
    "\n",
    "\n",
    "class Data_Processing_CBOW():\n",
    "  def __init__(self, corpus, window_size):\n",
    "    self.corpus = corpus\n",
    "    self.window_size = window_size\n",
    "    self.dimensionality = np.nan\n",
    "\n",
    "\n",
    "  def get_data(self):\n",
    "    sorted_words, self.dimensionality = counter(self.corpus)\n",
    "    word2index, index2word = make_dicts(sorted_words, self.dimensionality)\n",
    "    # собственно делаем X,y\n",
    "    X,y = [],[]\n",
    "    num_sent = [word2index[x] if x in word2index.keys() else 0 for x in self.corpus]\n",
    "    for cur_idx,num in enumerate(num_sent[self.window_size:-self.window_size]):\n",
    "      idx = cur_idx+self.window_size\n",
    "      y.append(num)\n",
    "      X.append(num_sent[idx-self.window_size:idx]+num_sent[idx+1:idx+self.window_size+1])\n",
    "\n",
    "    return np.array(X), np.array(y), word2index, index2word"
   ],
   "execution_count": 0,
   "outputs": []
  },
  {
   "cell_type": "code",
   "metadata": {
    "id": "GitgCbHbqmHy",
    "colab_type": "code",
    "outputId": "d47804e0-b0a9-4ca0-ffed-5e6785e2134d",
    "colab": {
     "base_uri": "https://localhost:8080/",
     "height": 90
    }
   },
   "source": [
    "X, y, word2index, index2word = Data_Processing_CBOW(corpus, 5).get_data()"
   ],
   "execution_count": 5,
   "outputs": [
    {
     "output_type": "stream",
     "text": [
      "total words: 17005207\n",
      "[('french', 8736), ('before', 8700), ('general', 8659), ('what', 8581), ('t', 8491), ('against', 8432), ('n', 8372), ('high', 8337), ('links', 8312), ('could', 8304), ('based', 8244), ('those', 8209), ('now', 8206), ('second', 8110), ('de', 8002), ('music', 7987), ('another', 7933), ('large', 7898), ('she', 7896), ('f', 7878), ('external', 7862), ('german', 7858), ('different', 7797), ('modern', 7790), ('great', 7770), ('do', 7763), ('common', 7698), ('set', 7682), ('list', 7672), ('south', 7628), ('series', 7611), ('major', 7585), ('game', 7553), ('power', 7522), ('long', 7488), ('country', 7481), ('king', 7456), ('law', 7435), ('group', 7417), ('film', 7400), ('still', 7378), ('until', 7368), ('north', 7328), ('international', 7262), ('term', 7219), ('we', 7118), ('end', 7113), ('book', 7110), ('found', 7043), ('own', 7034)]\n",
      "more then 10: 44611, less then 10: 206720\n"
     ],
     "name": "stdout"
    }
   ]
  },
  {
   "cell_type": "code",
   "metadata": {
    "id": "N_NCXe_F20ak",
    "colab_type": "code",
    "outputId": "8e2838f0-55e7-475f-d11e-c278633e1cad",
    "colab": {
     "base_uri": "https://localhost:8080/",
     "height": 34
    }
   },
   "source": [
    "# import shutil\n",
    "# shutil.move('w2v_data.pkl', \"/content/gdrive/My Drive/DeepPavlov/w2v_data.pkl\") "
   ],
   "execution_count": 0,
   "outputs": [
    {
     "output_type": "execute_result",
     "data": {
      "text/plain": [
       "'/content/gdrive/My Drive/DeepPavlov/w2v_data.pkl'"
      ]
     },
     "metadata": {
      "tags": []
     },
     "execution_count": 10
    }
   ]
  },
  {
   "cell_type": "code",
   "metadata": {
    "id": "EBnXhK5Nhcnb",
    "colab_type": "code",
    "outputId": "055cc15c-78a8-4dff-eb76-34c06caacb9f",
    "colab": {
     "base_uri": "https://localhost:8080/",
     "height": 34
    }
   },
   "source": [
    "print(X.shape, y.shape)"
   ],
   "execution_count": 6,
   "outputs": [
    {
     "output_type": "stream",
     "text": [
      "(17005197, 10) (17005197,)\n"
     ],
     "name": "stdout"
    }
   ]
  },
  {
   "cell_type": "code",
   "metadata": {
    "id": "bGjuR9rbrC4A",
    "colab_type": "code",
    "colab": {}
   },
   "source": [
    "class My_Dataset(Dataset):\n",
    "    def __init__(self, x, y):\n",
    "        self.x = x\n",
    "        self.y = y\n",
    "\n",
    "    def __len__(self):\n",
    "        return len(self.y)\n",
    "\n",
    "    def __getitem__(self, idx):\n",
    "        return self.x[idx, :], self.y[idx]\n",
    "\n",
    "\n",
    "class EarlyStopping():\n",
    "    def __init__(self, patience=5, min_percent_gain=0.1):\n",
    "        self.patience = patience\n",
    "        self.loss_list = []\n",
    "        self.min_percent_gain = min_percent_gain / 100.\n",
    "        \n",
    "    def update_loss(self, loss):\n",
    "        self.loss_list.append(loss)\n",
    "        if len(self.loss_list) > self.patience:\n",
    "            del self.loss_list[0]\n",
    "    \n",
    "    def stop_training(self):\n",
    "        if len(self.loss_list) == 1:\n",
    "            return False\n",
    "        gain = (max(self.loss_list) - min(self.loss_list)) / max(self.loss_list)\n",
    "        print(\"Loss gain: {}%\".format(round(100*gain,2)))\n",
    "        if gain < self.min_percent_gain:\n",
    "            return True\n",
    "        else:\n",
    "            return False\n",
    "\n",
    "def weights_init(m):\n",
    "    classname = m.__class__.__name__\n",
    "\n",
    "    # for every Linear layer in a model\n",
    "    if classname.find('Linear') != -1:\n",
    "        y = m.in_features\n",
    "    # m.weight.data shoud be taken from a normal distribution\n",
    "        m.weight.data.normal_(0.0,1/np.sqrt(y))\n",
    "    # m.bias.data should be 0\n",
    "        m.bias.data.fill_(0)\n",
    "\n",
    "    elif classname.find('Embedding') != -1:\n",
    "        torch.nn.init.xavier_uniform_(m.weight)"
   ],
   "execution_count": 0,
   "outputs": []
  },
  {
   "cell_type": "code",
   "metadata": {
    "id": "Fa7XiPZyrTC7",
    "colab_type": "code",
    "colab": {}
   },
   "source": [
    "class model(nn.Module):\n",
    "    def __init__(self, vocab_size, embedding_dim):\n",
    "      super().__init__()\n",
    "\n",
    "      self.emb = nn.Embedding(vocab_size, embedding_dim)\n",
    "      self.linear = nn.Linear(embedding_dim, vocab_size)\n",
    "\n",
    "\n",
    "    def forward(self, x):\n",
    "      out = torch.sum(self.emb(x), dim=1)  # [batch_size, 2*window_size, 20000] => [batch_size, 20000]\n",
    "      out = self.linear(out)\n",
    "      # print(out.shape)\n",
    "      out = F.log_softmax(out, dim=1)\n",
    "      # print(out.shape)\n",
    "\n",
    "      return out\n",
    "\n",
    "    def word_embeddings(self, word):                          # функция для п.3 function to map token to corresponding word vector\n",
    "      word = torch.LongTensor([word2index[word]])     \n",
    "      if cuda.is_available():\n",
    "          word = word.cuda()\n",
    "      else:\n",
    "          self.cpu()\n",
    "      return self.emb(word)\n",
    "\n",
    "\n",
    "net = model(len(word2index.keys()), 300)"
   ],
   "execution_count": 0,
   "outputs": []
  },
  {
   "cell_type": "code",
   "metadata": {
    "id": "86HanHD2s9yc",
    "colab_type": "code",
    "colab": {}
   },
   "source": [
    "print_every = 10\n",
    "num_epochs = 100\n",
    "batch_size = 512\n",
    "lr = 0.01\n",
    "\n",
    "batcher_train = DataLoader(My_Dataset(X, y), batch_size=batch_size, shuffle=False)\n",
    "optimizer = optim.SGD(net.parameters(), lr=0.01)"
   ],
   "execution_count": 0,
   "outputs": []
  },
  {
   "cell_type": "code",
   "metadata": {
    "id": "oMD473cqtI9C",
    "colab_type": "code",
    "outputId": "50e6f191-73bb-48a6-9e7c-14c72738ff43",
    "colab": {
     "base_uri": "https://localhost:8080/",
     "height": 1000
    }
   },
   "source": [
    "# https://github.com/jeffchy/pytorch-word-embedding/blob/master/CBOW.py              самая толковая версия\n",
    "# https://github.com/FraLotito/pytorch-continuous-bag-of-words/blob/master/cbow.py   реализована get_embeddings\n",
    "\n",
    "\n",
    "if cuda.is_available():\n",
    "    net = net.cuda()\n",
    "\n",
    "# cбросить веса\n",
    "# net.apply(weights_init)\n",
    "\n",
    "\n",
    "train_loss=[]\n",
    "train_accuracy=[]\n",
    "\n",
    "early_stopping = EarlyStopping()\n",
    "\n",
    "\n",
    "for epoch in range(num_epochs):\n",
    "\n",
    "    iter_loss = 0.0\n",
    "    correct = 0\n",
    "    iterations = 0\n",
    "\n",
    "    net.train()  # Put the network into training mode\n",
    "\n",
    "    for i, (items, classes) in tqdm(enumerate(batcher_train)):\n",
    "\n",
    "        # Convert torch tensor to Variable\n",
    "        items = Variable(torch.LongTensor(items))\n",
    "        classes = Variable(torch.LongTensor(classes))\n",
    "\n",
    "        # If we have GPU, shift the data to GPU\n",
    "        if cuda.is_available():\n",
    "            items = items.cuda()\n",
    "            classes = classes.cuda()\n",
    "\n",
    "        net.zero_grad()  # Clear off the gradients from any past operation\n",
    "        outputs = net(items)   # Do the forward pass\n",
    "\n",
    "        lr = lr / (2**(epoch // 10))\n",
    "        for param_group in optimizer.param_groups:\n",
    "          param_group['lr'] = lr\n",
    "\n",
    "\n",
    "        loss = F.nll_loss(outputs, classes)                                          \n",
    "        iter_loss += loss.item()  # Accumulate the loss\n",
    "        loss.backward()  # Calculate the gradients with help of back propagation\n",
    "        optimizer.step()  # Ask the optimizer to adjust the parameters based on the gradients\n",
    "\n",
    "        # Record the correct predictions for training data\n",
    "        _, predicted = torch.max(outputs.data, 1)\n",
    "\n",
    "        \n",
    "        correct += (predicted == classes.data).sum()\n",
    "        iterations += 1\n",
    "\n",
    "    # Record the training loss\n",
    "    train_loss.append(iter_loss / iterations)\n",
    "    # Record the training accuracy\n",
    "    train_accuracy.append((100 * correct / len(batcher_train.dataset)))\n",
    "    print(100.0 * correct / len(batcher_train.dataset))                                                   \n",
    "\n",
    "\n",
    "    train_loss.append(train_loss[-1])\n",
    "    train_accuracy.append(train_accuracy[-1])\n",
    "\n",
    "    early_stopping.update_loss(train_loss[-1])\n",
    "    if early_stopping.stop_training():\n",
    "        break\n",
    "    \n",
    "    # if epoch%print_every==0:\n",
    "    print('Epoch %d/%d, Tr Loss: %.4f, Tr Accuracy: %.1f'\n",
    "          % (epoch + 1, num_epochs, train_loss[-1], train_accuracy[-1]))\n",
    "    \n",
    "\n",
    "  torch.save(net, 'net.pb')\n",
    "  files.download('net.pb') "
   ],
   "execution_count": 0,
   "outputs": [
    {
     "output_type": "stream",
     "text": [
      "tensor(9.1052, device='cuda:0')\n",
      "Epoch 1/100, Tr Loss: 8.0341, Tr Accuracy: 9.0\n",
      "tensor(9.7169, device='cuda:0')\n",
      "Loss gain: 9.43%\n",
      "Epoch 2/100, Tr Loss: 7.2763, Tr Accuracy: 9.0\n",
      "tensor(10.0751, device='cuda:0')\n",
      "Loss gain: 11.6%\n",
      "Epoch 3/100, Tr Loss: 7.1019, Tr Accuracy: 10.0\n",
      "tensor(10.3960, device='cuda:0')\n",
      "Loss gain: 12.77%\n",
      "Epoch 4/100, Tr Loss: 7.0085, Tr Accuracy: 10.0\n",
      "tensor(10.6922, device='cuda:0')\n",
      "Loss gain: 13.56%\n",
      "Epoch 5/100, Tr Loss: 6.9443, Tr Accuracy: 10.0\n",
      "tensor(10.9554, device='cuda:0')\n",
      "Loss gain: 5.24%\n",
      "Epoch 6/100, Tr Loss: 6.8948, Tr Accuracy: 10.0\n",
      "tensor(11.1890, device='cuda:0')\n",
      "Loss gain: 3.49%\n",
      "Epoch 7/100, Tr Loss: 6.8543, Tr Accuracy: 11.0\n",
      "tensor(11.3926, device='cuda:0')\n",
      "Loss gain: 2.69%\n",
      "Epoch 8/100, Tr Loss: 6.8199, Tr Accuracy: 11.0\n",
      "tensor(11.5709, device='cuda:0')\n",
      "Loss gain: 2.22%\n",
      "Epoch 9/100, Tr Loss: 6.7901, Tr Accuracy: 11.0\n",
      "tensor(11.7228, device='cuda:0')\n",
      "Loss gain: 1.9%\n",
      "Epoch 10/100, Tr Loss: 6.7639, Tr Accuracy: 11.0\n",
      "tensor(11.7972, device='cuda:0')\n",
      "Loss gain: 1.41%\n",
      "Epoch 11/100, Tr Loss: 6.7580, Tr Accuracy: 11.0\n",
      "tensor(11.7972, device='cuda:0')\n",
      "Loss gain: 0.91%\n",
      "Epoch 12/100, Tr Loss: 6.7580, Tr Accuracy: 11.0\n",
      "tensor(11.7972, device='cuda:0')\n",
      "Loss gain: 0.47%\n",
      "Epoch 13/100, Tr Loss: 6.7580, Tr Accuracy: 11.0\n",
      "tensor(11.7972, device='cuda:0')\n",
      "Loss gain: 0.09%\n"
     ],
     "name": "stdout"
    },
    {
     "output_type": "stream",
     "text": [
      "/usr/local/lib/python3.6/dist-packages/torch/serialization.py:360: UserWarning: Couldn't retrieve source code for container of type model. It won't be checked for correctness upon loading.\n",
      "  \"type \" + obj.__name__ + \". It won't be checked \"\n"
     ],
     "name": "stderr"
    },
    {
     "output_type": "error",
     "ename": "MessageError",
     "evalue": "ignored",
     "traceback": [
      "\u001b[0;31m---------------------------------------------------------------------------\u001b[0m",
      "\u001b[0;31mMessageError\u001b[0m                              Traceback (most recent call last)",
      "\u001b[0;32m<ipython-input-64-bcc309ffe462>\u001b[0m in \u001b[0;36m<module>\u001b[0;34m()\u001b[0m\n\u001b[1;32m     74\u001b[0m   \u001b[0mtorch\u001b[0m\u001b[0;34m.\u001b[0m\u001b[0msave\u001b[0m\u001b[0;34m(\u001b[0m\u001b[0mnet\u001b[0m\u001b[0;34m,\u001b[0m \u001b[0;34m'net.pb'\u001b[0m\u001b[0;34m)\u001b[0m\u001b[0;34m\u001b[0m\u001b[0;34m\u001b[0m\u001b[0m\n\u001b[0;32m---> 75\u001b[0;31m   \u001b[0mfiles\u001b[0m\u001b[0;34m.\u001b[0m\u001b[0mdownload\u001b[0m\u001b[0;34m(\u001b[0m\u001b[0;34m'net.pb'\u001b[0m\u001b[0;34m)\u001b[0m\u001b[0;34m\u001b[0m\u001b[0;34m\u001b[0m\u001b[0m\n\u001b[0m\u001b[1;32m     76\u001b[0m \u001b[0;32mexcept\u001b[0m\u001b[0;34m:\u001b[0m\u001b[0;34m\u001b[0m\u001b[0;34m\u001b[0m\u001b[0m\n",
      "\u001b[0;32m/usr/local/lib/python3.6/dist-packages/google/colab/files.py\u001b[0m in \u001b[0;36mdownload\u001b[0;34m(filename)\u001b[0m\n\u001b[1;32m    177\u001b[0m       \u001b[0;34m'path'\u001b[0m\u001b[0;34m:\u001b[0m \u001b[0m_os\u001b[0m\u001b[0;34m.\u001b[0m\u001b[0mpath\u001b[0m\u001b[0;34m.\u001b[0m\u001b[0mabspath\u001b[0m\u001b[0;34m(\u001b[0m\u001b[0mfilename\u001b[0m\u001b[0;34m)\u001b[0m\u001b[0;34m,\u001b[0m\u001b[0;34m\u001b[0m\u001b[0;34m\u001b[0m\u001b[0m\n\u001b[0;32m--> 178\u001b[0;31m       \u001b[0;34m'name'\u001b[0m\u001b[0;34m:\u001b[0m \u001b[0m_os\u001b[0m\u001b[0;34m.\u001b[0m\u001b[0mpath\u001b[0m\u001b[0;34m.\u001b[0m\u001b[0mbasename\u001b[0m\u001b[0;34m(\u001b[0m\u001b[0mfilename\u001b[0m\u001b[0;34m)\u001b[0m\u001b[0;34m,\u001b[0m\u001b[0;34m\u001b[0m\u001b[0;34m\u001b[0m\u001b[0m\n\u001b[0m\u001b[1;32m    179\u001b[0m   })\n",
      "\u001b[0;32m/usr/local/lib/python3.6/dist-packages/google/colab/output/_js.py\u001b[0m in \u001b[0;36meval_js\u001b[0;34m(script, ignore_result)\u001b[0m\n\u001b[1;32m     38\u001b[0m     \u001b[0;32mreturn\u001b[0m\u001b[0;34m\u001b[0m\u001b[0;34m\u001b[0m\u001b[0m\n\u001b[0;32m---> 39\u001b[0;31m   \u001b[0;32mreturn\u001b[0m \u001b[0m_message\u001b[0m\u001b[0;34m.\u001b[0m\u001b[0mread_reply_from_input\u001b[0m\u001b[0;34m(\u001b[0m\u001b[0mrequest_id\u001b[0m\u001b[0;34m)\u001b[0m\u001b[0;34m\u001b[0m\u001b[0;34m\u001b[0m\u001b[0m\n\u001b[0m\u001b[1;32m     40\u001b[0m \u001b[0;34m\u001b[0m\u001b[0m\n",
      "\u001b[0;32m/usr/local/lib/python3.6/dist-packages/google/colab/_message.py\u001b[0m in \u001b[0;36mread_reply_from_input\u001b[0;34m(message_id, timeout_sec)\u001b[0m\n\u001b[1;32m    105\u001b[0m       \u001b[0;32mif\u001b[0m \u001b[0;34m'error'\u001b[0m \u001b[0;32min\u001b[0m \u001b[0mreply\u001b[0m\u001b[0;34m:\u001b[0m\u001b[0;34m\u001b[0m\u001b[0;34m\u001b[0m\u001b[0m\n\u001b[0;32m--> 106\u001b[0;31m         \u001b[0;32mraise\u001b[0m \u001b[0mMessageError\u001b[0m\u001b[0;34m(\u001b[0m\u001b[0mreply\u001b[0m\u001b[0;34m[\u001b[0m\u001b[0;34m'error'\u001b[0m\u001b[0;34m]\u001b[0m\u001b[0;34m)\u001b[0m\u001b[0;34m\u001b[0m\u001b[0;34m\u001b[0m\u001b[0m\n\u001b[0m\u001b[1;32m    107\u001b[0m       \u001b[0;32mreturn\u001b[0m \u001b[0mreply\u001b[0m\u001b[0;34m.\u001b[0m\u001b[0mget\u001b[0m\u001b[0;34m(\u001b[0m\u001b[0;34m'data'\u001b[0m\u001b[0;34m,\u001b[0m \u001b[0;32mNone\u001b[0m\u001b[0;34m)\u001b[0m\u001b[0;34m\u001b[0m\u001b[0;34m\u001b[0m\u001b[0m\n",
      "\u001b[0;31mMessageError\u001b[0m: TypeError: Failed to fetch",
      "\nDuring handling of the above exception, another exception occurred:\n",
      "\u001b[0;31mMessageError\u001b[0m                              Traceback (most recent call last)",
      "\u001b[0;32m<ipython-input-64-bcc309ffe462>\u001b[0m in \u001b[0;36m<module>\u001b[0;34m()\u001b[0m\n\u001b[1;32m     76\u001b[0m \u001b[0;32mexcept\u001b[0m\u001b[0;34m:\u001b[0m\u001b[0;34m\u001b[0m\u001b[0;34m\u001b[0m\u001b[0m\n\u001b[1;32m     77\u001b[0m   \u001b[0mtorch\u001b[0m\u001b[0;34m.\u001b[0m\u001b[0msave\u001b[0m\u001b[0;34m(\u001b[0m\u001b[0mnet\u001b[0m\u001b[0;34m,\u001b[0m \u001b[0;34m'net.pb'\u001b[0m\u001b[0;34m)\u001b[0m\u001b[0;34m\u001b[0m\u001b[0;34m\u001b[0m\u001b[0m\n\u001b[0;32m---> 78\u001b[0;31m   \u001b[0mfiles\u001b[0m\u001b[0;34m.\u001b[0m\u001b[0mdownload\u001b[0m\u001b[0;34m(\u001b[0m\u001b[0;34m'net.pb'\u001b[0m\u001b[0;34m)\u001b[0m\u001b[0;34m\u001b[0m\u001b[0;34m\u001b[0m\u001b[0m\n\u001b[0m",
      "\u001b[0;32m/usr/local/lib/python3.6/dist-packages/google/colab/files.py\u001b[0m in \u001b[0;36mdownload\u001b[0;34m(filename)\u001b[0m\n\u001b[1;32m    176\u001b[0m       \u001b[0;34m'port'\u001b[0m\u001b[0;34m:\u001b[0m \u001b[0mport\u001b[0m\u001b[0;34m,\u001b[0m\u001b[0;34m\u001b[0m\u001b[0;34m\u001b[0m\u001b[0m\n\u001b[1;32m    177\u001b[0m       \u001b[0;34m'path'\u001b[0m\u001b[0;34m:\u001b[0m \u001b[0m_os\u001b[0m\u001b[0;34m.\u001b[0m\u001b[0mpath\u001b[0m\u001b[0;34m.\u001b[0m\u001b[0mabspath\u001b[0m\u001b[0;34m(\u001b[0m\u001b[0mfilename\u001b[0m\u001b[0;34m)\u001b[0m\u001b[0;34m,\u001b[0m\u001b[0;34m\u001b[0m\u001b[0;34m\u001b[0m\u001b[0m\n\u001b[0;32m--> 178\u001b[0;31m       \u001b[0;34m'name'\u001b[0m\u001b[0;34m:\u001b[0m \u001b[0m_os\u001b[0m\u001b[0;34m.\u001b[0m\u001b[0mpath\u001b[0m\u001b[0;34m.\u001b[0m\u001b[0mbasename\u001b[0m\u001b[0;34m(\u001b[0m\u001b[0mfilename\u001b[0m\u001b[0;34m)\u001b[0m\u001b[0;34m,\u001b[0m\u001b[0;34m\u001b[0m\u001b[0;34m\u001b[0m\u001b[0m\n\u001b[0m\u001b[1;32m    179\u001b[0m   })\n",
      "\u001b[0;32m/usr/local/lib/python3.6/dist-packages/google/colab/output/_js.py\u001b[0m in \u001b[0;36meval_js\u001b[0;34m(script, ignore_result)\u001b[0m\n\u001b[1;32m     37\u001b[0m   \u001b[0;32mif\u001b[0m \u001b[0mignore_result\u001b[0m\u001b[0;34m:\u001b[0m\u001b[0;34m\u001b[0m\u001b[0;34m\u001b[0m\u001b[0m\n\u001b[1;32m     38\u001b[0m     \u001b[0;32mreturn\u001b[0m\u001b[0;34m\u001b[0m\u001b[0;34m\u001b[0m\u001b[0m\n\u001b[0;32m---> 39\u001b[0;31m   \u001b[0;32mreturn\u001b[0m \u001b[0m_message\u001b[0m\u001b[0;34m.\u001b[0m\u001b[0mread_reply_from_input\u001b[0m\u001b[0;34m(\u001b[0m\u001b[0mrequest_id\u001b[0m\u001b[0;34m)\u001b[0m\u001b[0;34m\u001b[0m\u001b[0;34m\u001b[0m\u001b[0m\n\u001b[0m\u001b[1;32m     40\u001b[0m \u001b[0;34m\u001b[0m\u001b[0m\n\u001b[1;32m     41\u001b[0m \u001b[0;34m\u001b[0m\u001b[0m\n",
      "\u001b[0;32m/usr/local/lib/python3.6/dist-packages/google/colab/_message.py\u001b[0m in \u001b[0;36mread_reply_from_input\u001b[0;34m(message_id, timeout_sec)\u001b[0m\n\u001b[1;32m    104\u001b[0m         reply.get('colab_msg_id') == message_id):\n\u001b[1;32m    105\u001b[0m       \u001b[0;32mif\u001b[0m \u001b[0;34m'error'\u001b[0m \u001b[0;32min\u001b[0m \u001b[0mreply\u001b[0m\u001b[0;34m:\u001b[0m\u001b[0;34m\u001b[0m\u001b[0;34m\u001b[0m\u001b[0m\n\u001b[0;32m--> 106\u001b[0;31m         \u001b[0;32mraise\u001b[0m \u001b[0mMessageError\u001b[0m\u001b[0;34m(\u001b[0m\u001b[0mreply\u001b[0m\u001b[0;34m[\u001b[0m\u001b[0;34m'error'\u001b[0m\u001b[0;34m]\u001b[0m\u001b[0;34m)\u001b[0m\u001b[0;34m\u001b[0m\u001b[0;34m\u001b[0m\u001b[0m\n\u001b[0m\u001b[1;32m    107\u001b[0m       \u001b[0;32mreturn\u001b[0m \u001b[0mreply\u001b[0m\u001b[0;34m.\u001b[0m\u001b[0mget\u001b[0m\u001b[0;34m(\u001b[0m\u001b[0;34m'data'\u001b[0m\u001b[0;34m,\u001b[0m \u001b[0;32mNone\u001b[0m\u001b[0;34m)\u001b[0m\u001b[0;34m\u001b[0m\u001b[0;34m\u001b[0m\u001b[0m\n\u001b[1;32m    108\u001b[0m \u001b[0;34m\u001b[0m\u001b[0m\n",
      "\u001b[0;31mMessageError\u001b[0m: TypeError: Failed to fetch"
     ]
    }
   ]
  },
  {
   "cell_type": "code",
   "metadata": {
    "id": "MZNsmCNl6Cvt",
    "colab_type": "code",
    "outputId": "4b3b1e6f-59d5-4eb1-94fd-85b3f253e213",
    "colab": {
     "base_uri": "https://localhost:8080/",
     "height": 34
    }
   },
   "source": [
    "# import shutil\n",
    "# shutil.move(\"net.pb\", \"/content/gdrive/My Drive/DeepPavlov/net_text8.pb\") "
   ],
   "execution_count": 0,
   "outputs": [
    {
     "output_type": "execute_result",
     "data": {
      "text/plain": [
       "'/content/gdrive/My Drive/DeepPavlov/net_text8_temp.pb'"
      ]
     },
     "metadata": {
      "tags": []
     },
     "execution_count": 12
    }
   ]
  },
  {
   "cell_type": "markdown",
   "metadata": {
    "id": "omyvSRFansMX",
    "colab_type": "text"
   },
   "source": [
    "#Загружаем уже подсчитанную модель"
   ]
  },
  {
   "cell_type": "code",
   "metadata": {
    "id": "xpLSjz37x1Z0",
    "colab_type": "code",
    "colab": {
     "base_uri": "https://localhost:8080/",
     "height": 34
    },
    "outputId": "e8edfff3-d7f3-47f7-a144-3406ad791fb1"
   },
   "source": [
    "net = torch.load(\"/content/gdrive/My Drive/DeepPavlov/net_text8.pb\")\n",
    "\n",
    "\n",
    "from google.colab import drive\n",
    "drive.mount('/content/gdrive')\n",
    "with open(\"/content/gdrive/My Drive/DeepPavlov/w2v_data.pkl\",\"rb\") as f:\n",
    "  [X, y, word2index, index2word] = pickle.load(f) "
   ],
   "execution_count": 11,
   "outputs": [
    {
     "output_type": "stream",
     "text": [
      "Drive already mounted at /content/gdrive; to attempt to forcibly remount, call drive.mount(\"/content/gdrive\", force_remount=True).\n"
     ],
     "name": "stdout"
    }
   ]
  },
  {
   "cell_type": "code",
   "metadata": {
    "id": "3PsatQzq094d",
    "colab_type": "code",
    "outputId": "2a81cc55-e5d9-4538-fa89-ae8a436e97d6",
    "colab": {
     "base_uri": "https://localhost:8080/",
     "height": 87
    }
   },
   "source": [
    "print(net)"
   ],
   "execution_count": 12,
   "outputs": [
    {
     "output_type": "stream",
     "text": [
      "model(\n",
      "  (emb): Embedding(44611, 300)\n",
      "  (linear): Linear(in_features=300, out_features=44611, bias=True)\n",
      ")\n"
     ],
     "name": "stdout"
    }
   ]
  },
  {
   "cell_type": "code",
   "metadata": {
    "id": "yENbGaJiXTZk",
    "colab_type": "code",
    "outputId": "58c43c52-7712-4899-b5c2-e2cdc819a0d6",
    "colab": {
     "base_uri": "https://localhost:8080/",
     "height": 34
    }
   },
   "source": [
    "# net = net.cpu()\n",
    "# net.emb(torch.LongTensor([word2index['the']])).shape\n",
    "net.word_embeddings('the').shape"
   ],
   "execution_count": 13,
   "outputs": [
    {
     "output_type": "execute_result",
     "data": {
      "text/plain": [
       "torch.Size([1, 300])"
      ]
     },
     "metadata": {
      "tags": []
     },
     "execution_count": 13
    }
   ]
  },
  {
   "cell_type": "markdown",
   "metadata": {
    "id": "EVFPDn-W9sHM",
    "colab_type": "text"
   },
   "source": [
    "#vizualization"
   ]
  },
  {
   "cell_type": "code",
   "metadata": {
    "id": "x8RTWMANXULN",
    "colab_type": "code",
    "outputId": "4271d778-be91-4f5d-e47d-a94a818ad40a",
    "colab": {
     "base_uri": "https://localhost:8080/",
     "height": 428
    }
   },
   "source": [
    "# нарисую все это\n",
    "from sklearn.decomposition import TruncatedSVD\n",
    "from matplotlib import pyplot as plt\n",
    "start, end = 3000, 3030\n",
    "\n",
    "df = pd.DataFrame(data=net.emb.weight.detach().numpy(), index=[index2word[x] for x in range(len(word2index))])\n",
    "\n",
    "svd = TruncatedSVD(n_components=2, algorithm='randomized', n_iter=15, random_state=None)\n",
    "M_reduced = svd.fit_transform(df.values)\n",
    "\n",
    "\n",
    "sub_words = df.iloc[start:end,:]\n",
    "types = sub_words.index\n",
    "x_coords = M_reduced[start:end,0]\n",
    "y_coords = M_reduced[start:end,1]\n",
    "\n",
    "fig = plt.figure(figsize=(10, 7))\n",
    "for i,type in enumerate(types):\n",
    "    x = x_coords[i]\n",
    "    y = y_coords[i]\n",
    "    plt.scatter(x, y, marker='x', color='red')\n",
    "    plt.text(x+0.0003, y+0.0003, type, fontsize=9)\n",
    "plt.show()"
   ],
   "execution_count": 0,
   "outputs": [
    {
     "output_type": "display_data",
     "data": {
      "image/png": "[encoded data removed]",
      "text/plain": [
       "<Figure size 720x504 with 1 Axes>"
      ]
     },
     "metadata": {
      "tags": []
     }
    }
   ]
  },
  {
   "cell_type": "markdown",
   "metadata": {
    "id": "dRDW7cW69mZp",
    "colab_type": "text"
   },
   "source": [
    "#intrinsic test"
   ]
  },
  {
   "cell_type": "code",
   "metadata": {
    "id": "-lHOVVS6A_Gs",
    "colab_type": "code",
    "colab": {}
   },
   "source": [
    "# intrinsic_test\n",
    "with open(\"/content/gdrive/My Drive/DeepPavlov/intrinsic_test.txt\",\"r\") as f:\n",
    "  intrinsic_test = f.read()\n",
    "\n",
    "intrinsic_data = [x.split() for x in intrinsic_test.split('\\n')]\n",
    "intrinsic_data = [x for x in intrinsic_data if len(x)==4]"
   ],
   "execution_count": 0,
   "outputs": []
  },
  {
   "cell_type": "code",
   "metadata": {
    "id": "4qDEMj5Y-UDi",
    "colab_type": "code",
    "colab": {}
   },
   "source": [
    "# https://web.stanford.edu/class/cs224n/materials/Gensim%20word%20vector%20visualization.html   \n",
    "# standford gensim realization не получилось повторить \n",
    "\n",
    "# from gensim.test.utils import datapath, get_tmpfile\n",
    "# from gensim.models import KeyedVectors\n",
    "# from gensim.scripts.glove2word2vec import glove2word2vec\n",
    "\n",
    "# word2vec_glove_file = get_tmpfile(\"/content/gdrive/My Drive/DeepPavlov/glove.6B.100d.txt\")\n",
    "# model = KeyedVectors.load_word2vec_format(word2vec_glove_file)\n",
    "# model.most_similar('obama')"
   ],
   "execution_count": 0,
   "outputs": []
  },
  {
   "cell_type": "code",
   "metadata": {
    "id": "NUw5LJbpDy2V",
    "colab_type": "code",
    "colab": {}
   },
   "source": [
    "# https://programmer.group/pytorch-implements-word2vec.html                                    чувак подкинул\n",
    "# сделал кастомный вариант подсчета cosine_similarity\n",
    "def prepare_x(x):\n",
    "  if x in word2index.keys():\n",
    "      x = net.emb(torch.LongTensor([word2index[x]]))\n",
    "      if cuda.is_available():\n",
    "        x.cuda()\n",
    "  else:\n",
    "      x = 'UNK'\n",
    "  return x\n",
    "all_values=[]\n",
    "\n",
    "def cosine_similarity(data):\n",
    "    \"\"\" Returns the cosine similarity of validation words with words in the embedding matrix.\n",
    "        Here, embedding should be a PyTorch embedding module.\n",
    "    \"\"\"\n",
    "    [a_,b_,c_,d_] = data\n",
    "\n",
    "    if cuda.is_available():\n",
    "      device='cuda'\n",
    "    else:\n",
    "      device='cpu'\n",
    "\n",
    "    # Here we're calculating the cosine similarity between some random words and \n",
    "    # our embedding vectors. With the similarities, we can look at what words are\n",
    "    # close to our random words.\n",
    "    \n",
    "    # sim = (a . b) / |a||b|\n",
    "    try:\n",
    "      a,b,c,d = prepare_x(a_),prepare_x(b_),prepare_x(c_),prepare_x(d_),\n",
    "\n",
    "      summ = b-a+c\n",
    "      magn_d = d.pow(2).sum(dim=1).sqrt().unsqueeze(0)\n",
    "      magn_result = summ.pow(2).sum(dim=1).sqrt().unsqueeze(0)\n",
    "      \n",
    "      similarities = torch.mm(d, summ.t())/(magn_d*magn_result)\n",
    "\n",
    "      # print(\"{} к {} как {} к {}\".format(data[0], data[1], data[2], data[3]))\n",
    "      # print(similarities.detach().cpu().numpy()[0][0])\n",
    "      all_values.append(similarities.detach().cpu().numpy()[0][0])\n",
    "    except:\n",
    "      pass"
   ],
   "execution_count": 0,
   "outputs": []
  },
  {
   "cell_type": "code",
   "metadata": {
    "id": "-uB_PRwwbHuO",
    "colab_type": "code",
    "outputId": "f7ea27c1-ef14-4059-945f-56ebb08f8dca",
    "colab": {
     "base_uri": "https://localhost:8080/",
     "height": 34
    }
   },
   "source": [
    "for example in intrinsic_data:\n",
    "  cosine_similarity(example)\n",
    "print('MEAN {}'.format(np.mean(all_values)))"
   ],
   "execution_count": 0,
   "outputs": [
    {
     "output_type": "stream",
     "text": [
      "MEAN 0.205417662858963\n"
     ],
     "name": "stdout"
    }
   ]
  },
  {
   "cell_type": "markdown",
   "metadata": {
    "id": "TBmDYrjZS7_-",
    "colab_type": "text"
   },
   "source": [
    "#extrinsic test"
   ]
  },
  {
   "cell_type": "code",
   "metadata": {
    "id": "e-xzGdOqgzQZ",
    "colab_type": "code",
    "outputId": "66ba7442-02ce-411e-9d10-21e11377cee4",
    "colab": {
     "base_uri": "https://localhost:8080/",
     "height": 34
    }
   },
   "source": [
    "# взят датасет https://www.kaggle.com/kazanova/sentiment140\n",
    "from google.colab import drive\n",
    "drive.mount('/content/gdrive')\n",
    "raw = pd.read_csv(\"/content/gdrive/My Drive/DeepPavlov/sentiment140/training.1600000.processed.noemoticon.csv\",\n",
    "            sep=\",\", encoding='latin-1', header=None).loc[:,[0,5]]"
   ],
   "execution_count": 14,
   "outputs": [
    {
     "output_type": "stream",
     "text": [
      "Drive already mounted at /content/gdrive; to attempt to forcibly remount, call drive.mount(\"/content/gdrive\", force_remount=True).\n"
     ],
     "name": "stdout"
    }
   ]
  },
  {
   "cell_type": "code",
   "metadata": {
    "id": "LZ4dDc0KTRBo",
    "colab_type": "code",
    "colab": {}
   },
   "source": [
    "twits = []\n",
    "for row in raw[5]:\n",
    "  temp = row.split()\n",
    "  temp = ['URL' if c.startswith('http') else c for c in temp]\n",
    "  temp = ['NAME' if c.startswith('@') else c for c in temp]\n",
    "\n",
    "  # print(temp)\n",
    "  twits.append(''.join([c.lower() for c in \" \".join(temp) if c not in punctuation+'«»']).split())"
   ],
   "execution_count": 0,
   "outputs": []
  },
  {
   "cell_type": "code",
   "metadata": {
    "id": "98WEhhuJTilC",
    "colab_type": "code",
    "outputId": "2fba3b71-94ba-4715-eb69-ca18e3769ca0",
    "colab": {
     "base_uri": "https://localhost:8080/",
     "height": 199
    }
   },
   "source": [
    "raw[5] = twits\n",
    "raw.rename(columns={0:'target',5:'twit'}, inplace=True)\n",
    "raw.head()"
   ],
   "execution_count": 16,
   "outputs": [
    {
     "output_type": "execute_result",
     "data": {
      "text/html": [
       "<div>\n",
       "<style scoped>\n",
       "    .dataframe tbody tr th:only-of-type {\n",
       "        vertical-align: middle;\n",
       "    }\n",
       "\n",
       "    .dataframe tbody tr th {\n",
       "        vertical-align: top;\n",
       "    }\n",
       "\n",
       "    .dataframe thead th {\n",
       "        text-align: right;\n",
       "    }\n",
       "</style>\n",
       "<table border=\"1\" class=\"dataframe\">\n",
       "  <thead>\n",
       "    <tr style=\"text-align: right;\">\n",
       "      <th></th>\n",
       "      <th>target</th>\n",
       "      <th>twit</th>\n",
       "    </tr>\n",
       "  </thead>\n",
       "  <tbody>\n",
       "    <tr>\n",
       "      <th>0</th>\n",
       "      <td>0</td>\n",
       "      <td>[name, url, awww, thats, a, bummer, you, shoul...</td>\n",
       "    </tr>\n",
       "    <tr>\n",
       "      <th>1</th>\n",
       "      <td>0</td>\n",
       "      <td>[is, upset, that, he, cant, update, his, faceb...</td>\n",
       "    </tr>\n",
       "    <tr>\n",
       "      <th>2</th>\n",
       "      <td>0</td>\n",
       "      <td>[name, i, dived, many, times, for, the, ball, ...</td>\n",
       "    </tr>\n",
       "    <tr>\n",
       "      <th>3</th>\n",
       "      <td>0</td>\n",
       "      <td>[my, whole, body, feels, itchy, and, like, its...</td>\n",
       "    </tr>\n",
       "    <tr>\n",
       "      <th>4</th>\n",
       "      <td>0</td>\n",
       "      <td>[name, no, its, not, behaving, at, all, im, ma...</td>\n",
       "    </tr>\n",
       "  </tbody>\n",
       "</table>\n",
       "</div>"
      ],
      "text/plain": [
       "   target                                               twit\n",
       "0       0  [name, url, awww, thats, a, bummer, you, shoul...\n",
       "1       0  [is, upset, that, he, cant, update, his, faceb...\n",
       "2       0  [name, i, dived, many, times, for, the, ball, ...\n",
       "3       0  [my, whole, body, feels, itchy, and, like, its...\n",
       "4       0  [name, no, its, not, behaving, at, all, im, ma..."
      ]
     },
     "metadata": {
      "tags": []
     },
     "execution_count": 16
    }
   ]
  },
  {
   "cell_type": "code",
   "metadata": {
    "id": "xNor5n6xC2ti",
    "colab_type": "code",
    "outputId": "d6890f99-b342-46f1-f5c1-eabd2695f38a",
    "colab": {
     "base_uri": "https://localhost:8080/",
     "height": 52
    }
   },
   "source": [
    "twits_len = [len(twit) for twit in raw[raw['target']==4].twit]\n",
    "print(np.mean(twits_len), np.std(twits_len))\n",
    "twits_len = [len(twit) for twit in raw[raw['target']==0].twit]\n",
    "print(np.mean(twits_len), np.std(twits_len))"
   ],
   "execution_count": 17,
   "outputs": [
    {
     "output_type": "stream",
     "text": [
      "12.6207275 6.758350380880216\n",
      "13.46716625 7.024173399401595\n"
     ],
     "name": "stdout"
    }
   ]
  },
  {
   "cell_type": "code",
   "metadata": {
    "id": "EsfJv4XGBn58",
    "colab_type": "code",
    "colab": {}
   },
   "source": [
    "targets = raw.target.tolist()\n",
    "\n",
    "sub_twits = [twits[i] for i, l in enumerate(twits) if 6<len(l)<20]\n",
    "sub_targets = [targets[i] for i, l in enumerate(twits) if 6<len(l)<20]\n",
    "df = pd.DataFrame(columns=raw.columns, index=range(len(sub_targets)))\n",
    "df['twit'], df['target'] = sub_twits, sub_targets"
   ],
   "execution_count": 0,
   "outputs": []
  },
  {
   "cell_type": "code",
   "metadata": {
    "id": "BxiWYN_YFR17",
    "colab_type": "code",
    "outputId": "11ea8580-e421-42ed-d7cb-2da6b2771938",
    "colab": {
     "base_uri": "https://localhost:8080/",
     "height": 70
    }
   },
   "source": [
    "df['target'].value_counts()"
   ],
   "execution_count": 19,
   "outputs": [
    {
     "output_type": "execute_result",
     "data": {
      "text/plain": [
       "4    469343\n",
       "0    463323\n",
       "Name: target, dtype: int64"
      ]
     },
     "metadata": {
      "tags": []
     },
     "execution_count": 19
    }
   ]
  },
  {
   "cell_type": "code",
   "metadata": {
    "id": "Y02kWBDJIB_6",
    "colab_type": "code",
    "colab": {}
   },
   "source": [
    "# https://towardsdatascience.com/sentiment-analysis-using-lstm-step-by-step-50d074f09948\n",
    "# пока не доделал\n",
    "sub_twit_tokens = [[word2index[x] if x in word2index.keys() else 0 for x in twit] for twit in sub_twits]"
   ],
   "execution_count": 0,
   "outputs": []
  },
  {
   "cell_type": "code",
   "metadata": {
    "id": "AWfPdTMLDlX8",
    "colab_type": "code",
    "colab": {}
   },
   "source": [
    "x_train = sub_twit_tokens[:int(0.8*len(sub_targets))]\n",
    "y_train = sub_targets[:int(0.8*len(sub_targets))]\n",
    "x_val = sub_twit_tokens[int(0.8*len(sub_targets)):]\n",
    "y_val = sub_targets[int(0.8*len(sub_targets)):]"
   ],
   "execution_count": 0,
   "outputs": []
  },
  {
   "cell_type": "code",
   "metadata": {
    "id": "O8lCfhzRJRwH",
    "colab_type": "code",
    "colab": {
     "base_uri": "https://localhost:8080/",
     "height": 34
    },
    "outputId": "e23fedc0-998b-4f72-cf69-0a25ca9725dd"
   },
   "source": [
    "from sklearn.model_selection import train_test_split\n",
    "X_train, X_val, y_train, y_val = train_test_split(sub_twit_tokens, sub_targets, test_size=0.10, random_state=42, )\n",
    "np.unique(y_train, return_counts=True)"
   ],
   "execution_count": 23,
   "outputs": [
    {
     "output_type": "execute_result",
     "data": {
      "text/plain": [
       "(array([0, 4]), array([417116, 422283]))"
      ]
     },
     "metadata": {
      "tags": []
     },
     "execution_count": 23
    }
   ]
  },
  {
   "cell_type": "code",
   "metadata": {
    "id": "1660rKiXGcup",
    "colab_type": "code",
    "colab": {}
   },
   "source": [
    "class My_Dataset(Dataset):\n",
    "    def __init__(self, x, y):\n",
    "        self.x = x\n",
    "        self.y = y\n",
    "\n",
    "    def __len__(self):\n",
    "        return len(self.y)\n",
    "\n",
    "    def __getitem__(self, idx):\n",
    "\n",
    "        batch_x = np.zeros((20,1), dtype=int)\n",
    "        batch_x[:len(self.x[idx]),0] = self.x[idx]\n",
    "        \n",
    "\n",
    "        return batch_x, self.y[idx]\n",
    "\n",
    "\n",
    "batch_size = 512\n",
    "\n",
    "batcher_train = DataLoader(My_Dataset(X_train, y_train), batch_size=batch_size, shuffle=True)\n",
    "batcher_val = DataLoader(My_Dataset(X_val, y_val), batch_size=batch_size, shuffle=True)"
   ],
   "execution_count": 0,
   "outputs": []
  },
  {
   "cell_type": "code",
   "metadata": {
    "id": "_OwroSjJDnYL",
    "colab_type": "code",
    "colab": {}
   },
   "source": [
    "class RCNN(nn.Module):\n",
    "\tdef __init__(self, batch_size, output_size, hidden_size, vocab_size, embedding_length, weights):\n",
    "\t\tsuper(RCNN, self).__init__()\n",
    "\t\t\n",
    "\t\t\"\"\"\n",
    "\t\tArguments\n",
    "\t\t---------\n",
    "\t\tbatch_size : Size of the batch which is same as the batch_size of the data returned by the TorchText BucketIterator\n",
    "\t\toutput_size : 2 = (pos, neg)\n",
    "\t\thidden_sie : Size of the hidden_state of the LSTM\n",
    "\t\tvocab_size : Size of the vocabulary containing unique words\n",
    "\t\tembedding_length : Embedding dimension of GloVe word embeddings\n",
    "\t\tweights : Pre-trained GloVe word_embeddings which we will use to create our word_embedding look-up table \n",
    "\t\t\n",
    "\t\t\"\"\"\n",
    "\t\t\n",
    "\t\tself.batch_size = batch_size\n",
    "\t\tself.output_size = output_size\n",
    "\t\tself.hidden_size = hidden_size\n",
    "\t\tself.vocab_size = vocab_size\n",
    "\t\tself.embedding_length = embedding_length\n",
    "\t\t\n",
    "\t\tself.word_embeddings = nn.Embedding(vocab_size, embedding_length)# Initializing the look-up table.\n",
    "\t\tself.word_embeddings.weight = nn.Parameter(weights, requires_grad=False) # Assigning the look-up table to the pre-trained GloVe word embedding.\n",
    "\t\tself.dropout = 0.8\n",
    "\t\tself.lstm = nn.LSTM(embedding_length, hidden_size, dropout=self.dropout, bidirectional=True)\n",
    "\t\tself.W2 = nn.Linear(2*hidden_size+embedding_length, hidden_size)\n",
    "\t\tself.label = nn.Linear(hidden_size, output_size)\n",
    "\t\t\n",
    "\tdef forward(self, input_sentence, batch_size=None):\n",
    "\t\n",
    "\t\t\"\"\" \n",
    "\t\tParameters\n",
    "\t\t----------\n",
    "\t\tinput_sentence: input_sentence of shape = (batch_size, num_sequences)\n",
    "\t\tbatch_size : default = None. Used only for prediction on a single sentence after training (batch_size = 1)\n",
    "\t\t\n",
    "\t\tReturns\n",
    "\t\t-------\n",
    "\t\tOutput of the linear layer containing logits for positive & negative class which receives its input as the final_hidden_state of the LSTM\n",
    "\t\tfinal_output.shape = (batch_size, output_size)\n",
    "\t\t\n",
    "\t\t\"\"\"\n",
    "\t\t\n",
    "\t\t\"\"\"\n",
    "\t\t\n",
    "\t\tThe idea of the paper \"Recurrent Convolutional Neural Networks for Text Classification\" is that we pass the embedding vector\n",
    "\t\tof the text sequences through a bidirectional LSTM and then for each sequence, our final embedding vector is the concatenation of \n",
    "\t\tits own GloVe embedding and the left and right contextual embedding which in bidirectional LSTM is same as the corresponding hidden\n",
    "\t\tstate. This final embedding is passed through a linear layer which maps this long concatenated encoding vector back to the hidden_size\n",
    "\t\tvector. After this step, we use a max pooling layer across all sequences of texts. This converts any varying length text into a fixed\n",
    "\t\tdimension tensor of size (batch_size, hidden_size) and finally we map this to the output layer.\n",
    "\t\t\"\"\"\n",
    "\t\tinput = self.word_embeddings(input_sentence) # embedded input of shape = (batch_size, num_sequences, embedding_length)\n",
    "\t\tinput = input.permute(1, 0, 2) # input.size() = (num_sequences, batch_size, embedding_length)\n",
    "\t\tif batch_size is None:\n",
    "\t\t\th_0 = Variable(torch.zeros(2, self.batch_size, self.hidden_size).cuda()) # Initial hidden state of the LSTM\n",
    "\t\t\tc_0 = Variable(torch.zeros(2, self.batch_size, self.hidden_size).cuda()) # Initial cell state of the LSTM\n",
    "\t\telse:\n",
    "\t\t\th_0 = Variable(torch.zeros(2, batch_size, self.hidden_size).cuda())\n",
    "\t\t\tc_0 = Variable(torch.zeros(2, batch_size, self.hidden_size).cuda())\n",
    "\n",
    "\t\toutput, (final_hidden_state, final_cell_state) = self.lstm(input, (h_0, c_0))\n",
    "\t\t\n",
    "\t\tfinal_encoding = torch.cat((output, input), 2).permute(1, 0, 2)\n",
    "\t\ty = self.W2(final_encoding) # y.size() = (batch_size, num_sequences, hidden_size)\n",
    "\t\ty = y.permute(0, 2, 1) # y.size() = (batch_size, hidden_size, num_sequences)\n",
    "\t\ty = F.max_pool1d(y, y.size()[2]) # y.size() = (batch_size, hidden_size, 1)\n",
    "\t\ty = y.squeeze(2)\n",
    "\t\tlogits = self.label(y)\n",
    "\t\t\n",
    "\t\treturn logits"
   ],
   "execution_count": 0,
   "outputs": []
  },
  {
   "cell_type": "code",
   "metadata": {
    "id": "NinlmNujHQkb",
    "colab_type": "code",
    "colab": {
     "base_uri": "https://localhost:8080/",
     "height": 439
    },
    "outputId": "9142b9b1-0b99-4a96-9dd0-73ed1a6efa21"
   },
   "source": [
    "net2 = RCNN(batch_size, 2, 300, len(word2index), 300, net.emb.weight )\n",
    "\n",
    "train_loss = []\n",
    "valid_loss = []\n",
    "train_accuracy = []\n",
    "valid_accuracy = []\n",
    "train_fscore = []\n",
    "valid_fscore = []\n",
    "\n",
    "if cuda.is_available():\n",
    "    net2 = net2.cuda()\n",
    "\n",
    "# Our loss function\n",
    "criterion = torch.nn.BCELoss()\n",
    "optimizer = torch.optim.SGD(net.parameters(), lr=0.01, momentum=0.9)\n",
    "\n",
    "for epoch in range(100):\n",
    "\n",
    "    ############################\n",
    "    # Train\n",
    "    ############################\n",
    "\n",
    "    iter_loss = 0.0\n",
    "    correct = 0\n",
    "    iterations = 0\n",
    "    f_scores= 0\n",
    "\n",
    "    net2.train()  # Put the network into training mode\n",
    "\n",
    "    for i, (items, classes) in enumerate(batcher_train):\n",
    "\n",
    "        # Convert torch tensor to Variable\n",
    "        items = Variable(items)\n",
    "        classes = Variable(classes)\n",
    "\n",
    "        # If we have GPU, shift the data to GPU\n",
    "        if cuda.is_available():\n",
    "            items = items.cuda()\n",
    "            classes = classes.cuda()\n",
    "\n",
    "        optimizer.zero_grad()  # Clear off the gradients from any past operation\n",
    "        outputs = net2(items)  # Do the forward pass\n",
    "        loss = criterion(outputs, classes.long())                                               # Calculate the loss\n",
    "        iter_loss += loss.item()  # Accumulate the loss\n",
    "        loss.backward()  # Calculate the gradients with help of back propagation\n",
    "        optimizer.step()  # Ask the optimizer to adjust the parameters based on the gradients\n",
    "        print(loss.data)\n",
    "        # Record the correct predictions for training data\n",
    "        _, predicted = torch.max(outputs.data, 1)\n",
    "        correct += (predicted == classes.data.long()).sum()\n",
    "\n",
    "        f_scores += f1_score(predicted.cpu().numpy(), classes.data.cpu().numpy(), average='macro')\n",
    "\n",
    "        iterations += 1\n",
    "\n",
    "    # Record the training loss\n",
    "    train_loss.append(iter_loss / iterations)\n",
    "    # Record the training accuracy\n",
    "    train_accuracy.append((100 * correct / len(batcher_train.dataset)))\n",
    "    train_fscore.append(f_scores/iterations)\n",
    "    # print(100.0 * correct / len(batcher_train.dataset))                                                   рень с перестановкой множителей местами!\n",
    "\n",
    "    ############################\n",
    "    # Validate - How did we do on the unseen dataset?\n",
    "    ############################\n",
    "\n",
    "\n",
    "    loss = 0.0\n",
    "    correct = 0\n",
    "    iterations = 0\n",
    "    f_scores = 0\n",
    "\n",
    "    net2.eval()  # Put the network into evaluate mode\n",
    "\n",
    "    for i, (items, classes) in enumerate(batcher_val):\n",
    "\n",
    "        # Convert torch tensor to Variable\n",
    "        items = Variable(items)\n",
    "        classes = Variable(classes)\n",
    "\n",
    "        # If we have GPU, shift the data to GPU\n",
    "        if cuda.is_available():\n",
    "            items = items.cuda()\n",
    "            classes = classes.cuda()\n",
    "\n",
    "        outputs = net2(items)  # Do the forward pass\n",
    "        loss += criterion(outputs, classes.long()).item()  # Calculate the loss\n",
    "                                                                        # loss = criterion(outputs, classes.long()).sum()\n",
    "        # Record the correct predictions for training data\n",
    "        _, predicted = torch.max(outputs.data, 1)\n",
    "        correct += (predicted == classes.data.long()).sum()\n",
    "\n",
    "        f_scores += f1_score(predicted.cpu().numpy(), classes.data.cpu().numpy(), average='macro')\n",
    "\n",
    "        iterations += 1\n",
    "\n",
    "    # Record the validation loss\n",
    "    valid_loss.append(loss / iterations)\n",
    "    # Record the validation accuracy\n",
    "    valid_accuracy.append(100.0 * correct / float(len(batcher_val.dataset)))\n",
    "    valid_fscore.append(f_scores/iterations)\n",
    "\n",
    "    # print(correct, float(len(batcher_val.dataset)))\n",
    "    # print(100 * correct / float(len(batcher_val.dataset)))\n",
    "\n",
    "\n",
    "    print('Epoch %d/%d, Tr Loss: %.4f, Tr Fscore: %.4f, Val Loss: %.4f, Val Fscore: %.4f'\n",
    "          % (epoch + 1, config.num_epochs, train_loss[-1], train_fscore[-1],\n",
    "              valid_loss[-1], valid_fscore[-1]))"
   ],
   "execution_count": 74,
   "outputs": [
    {
     "output_type": "stream",
     "text": [
      "/usr/local/lib/python3.6/dist-packages/torch/nn/modules/rnn.py:50: UserWarning: dropout option adds dropout after all but last recurrent layer, so non-zero dropout expects num_layers greater than 1, but got dropout=0.8 and num_layers=1\n",
      "  \"num_layers={}\".format(dropout, num_layers))\n"
     ],
     "name": "stderr"
    },
    {
     "output_type": "error",
     "ename": "RuntimeError",
     "evalue": "ignored",
     "traceback": [
      "\u001b[0;31m---------------------------------------------------------------------------\u001b[0m",
      "\u001b[0;31mRuntimeError\u001b[0m                              Traceback (most recent call last)",
      "\u001b[0;32m<ipython-input-74-5c586a708ae2>\u001b[0m in \u001b[0;36m<module>\u001b[0;34m()\u001b[0m\n\u001b[1;32m     40\u001b[0m \u001b[0;34m\u001b[0m\u001b[0m\n\u001b[1;32m     41\u001b[0m         \u001b[0moptimizer\u001b[0m\u001b[0;34m.\u001b[0m\u001b[0mzero_grad\u001b[0m\u001b[0;34m(\u001b[0m\u001b[0;34m)\u001b[0m  \u001b[0;31m# Clear off the gradients from any past operation\u001b[0m\u001b[0;34m\u001b[0m\u001b[0;34m\u001b[0m\u001b[0m\n\u001b[0;32m---> 42\u001b[0;31m         \u001b[0moutputs\u001b[0m \u001b[0;34m=\u001b[0m \u001b[0mnet2\u001b[0m\u001b[0;34m(\u001b[0m\u001b[0mitems\u001b[0m\u001b[0;34m)\u001b[0m  \u001b[0;31m# Do the forward pass\u001b[0m\u001b[0;34m\u001b[0m\u001b[0;34m\u001b[0m\u001b[0m\n\u001b[0m\u001b[1;32m     43\u001b[0m         \u001b[0mloss\u001b[0m \u001b[0;34m=\u001b[0m \u001b[0mcriterion\u001b[0m\u001b[0;34m(\u001b[0m\u001b[0moutputs\u001b[0m\u001b[0;34m,\u001b[0m \u001b[0mclasses\u001b[0m\u001b[0;34m.\u001b[0m\u001b[0mlong\u001b[0m\u001b[0;34m(\u001b[0m\u001b[0;34m)\u001b[0m\u001b[0;34m)\u001b[0m                                               \u001b[0;31m# Calculate the loss\u001b[0m\u001b[0;34m\u001b[0m\u001b[0;34m\u001b[0m\u001b[0m\n\u001b[1;32m     44\u001b[0m         \u001b[0miter_loss\u001b[0m \u001b[0;34m+=\u001b[0m \u001b[0mloss\u001b[0m\u001b[0;34m.\u001b[0m\u001b[0mitem\u001b[0m\u001b[0;34m(\u001b[0m\u001b[0;34m)\u001b[0m  \u001b[0;31m# Accumulate the loss\u001b[0m\u001b[0;34m\u001b[0m\u001b[0;34m\u001b[0m\u001b[0m\n",
      "\u001b[0;32m/usr/local/lib/python3.6/dist-packages/torch/nn/modules/module.py\u001b[0m in \u001b[0;36m__call__\u001b[0;34m(self, *input, **kwargs)\u001b[0m\n\u001b[1;32m    530\u001b[0m             \u001b[0mresult\u001b[0m \u001b[0;34m=\u001b[0m \u001b[0mself\u001b[0m\u001b[0;34m.\u001b[0m\u001b[0m_slow_forward\u001b[0m\u001b[0;34m(\u001b[0m\u001b[0;34m*\u001b[0m\u001b[0minput\u001b[0m\u001b[0;34m,\u001b[0m \u001b[0;34m**\u001b[0m\u001b[0mkwargs\u001b[0m\u001b[0;34m)\u001b[0m\u001b[0;34m\u001b[0m\u001b[0;34m\u001b[0m\u001b[0m\n\u001b[1;32m    531\u001b[0m         \u001b[0;32melse\u001b[0m\u001b[0;34m:\u001b[0m\u001b[0;34m\u001b[0m\u001b[0;34m\u001b[0m\u001b[0m\n\u001b[0;32m--> 532\u001b[0;31m             \u001b[0mresult\u001b[0m \u001b[0;34m=\u001b[0m \u001b[0mself\u001b[0m\u001b[0;34m.\u001b[0m\u001b[0mforward\u001b[0m\u001b[0;34m(\u001b[0m\u001b[0;34m*\u001b[0m\u001b[0minput\u001b[0m\u001b[0;34m,\u001b[0m \u001b[0;34m**\u001b[0m\u001b[0mkwargs\u001b[0m\u001b[0;34m)\u001b[0m\u001b[0;34m\u001b[0m\u001b[0;34m\u001b[0m\u001b[0m\n\u001b[0m\u001b[1;32m    533\u001b[0m         \u001b[0;32mfor\u001b[0m \u001b[0mhook\u001b[0m \u001b[0;32min\u001b[0m \u001b[0mself\u001b[0m\u001b[0;34m.\u001b[0m\u001b[0m_forward_hooks\u001b[0m\u001b[0;34m.\u001b[0m\u001b[0mvalues\u001b[0m\u001b[0;34m(\u001b[0m\u001b[0;34m)\u001b[0m\u001b[0;34m:\u001b[0m\u001b[0;34m\u001b[0m\u001b[0;34m\u001b[0m\u001b[0m\n\u001b[1;32m    534\u001b[0m             \u001b[0mhook_result\u001b[0m \u001b[0;34m=\u001b[0m \u001b[0mhook\u001b[0m\u001b[0;34m(\u001b[0m\u001b[0mself\u001b[0m\u001b[0;34m,\u001b[0m \u001b[0minput\u001b[0m\u001b[0;34m,\u001b[0m \u001b[0mresult\u001b[0m\u001b[0;34m)\u001b[0m\u001b[0;34m\u001b[0m\u001b[0;34m\u001b[0m\u001b[0m\n",
      "\u001b[0;32m<ipython-input-73-0bd34f7f68d4>\u001b[0m in \u001b[0;36mforward\u001b[0;34m(self, input_sentence, batch_size)\u001b[0m\n\u001b[1;32m     53\u001b[0m \t\t\"\"\"\n\u001b[1;32m     54\u001b[0m                 \u001b[0minput\u001b[0m \u001b[0;34m=\u001b[0m \u001b[0mself\u001b[0m\u001b[0;34m.\u001b[0m\u001b[0mword_embeddings\u001b[0m\u001b[0;34m(\u001b[0m\u001b[0minput_sentence\u001b[0m\u001b[0;34m)\u001b[0m \u001b[0;31m# embedded input of shape = (batch_size, num_sequences, embedding_length)\u001b[0m\u001b[0;34m\u001b[0m\u001b[0;34m\u001b[0m\u001b[0m\n\u001b[0;32m---> 55\u001b[0;31m                 \u001b[0minput\u001b[0m \u001b[0;34m=\u001b[0m \u001b[0minput\u001b[0m\u001b[0;34m.\u001b[0m\u001b[0mpermute\u001b[0m\u001b[0;34m(\u001b[0m\u001b[0;36m1\u001b[0m\u001b[0;34m,\u001b[0m \u001b[0;36m0\u001b[0m\u001b[0;34m,\u001b[0m \u001b[0;36m2\u001b[0m\u001b[0;34m)\u001b[0m \u001b[0;31m# input.size() = (num_sequences, batch_size, embedding_length)\u001b[0m\u001b[0;34m\u001b[0m\u001b[0;34m\u001b[0m\u001b[0m\n\u001b[0m\u001b[1;32m     56\u001b[0m                 \u001b[0;32mif\u001b[0m \u001b[0mbatch_size\u001b[0m \u001b[0;32mis\u001b[0m \u001b[0;32mNone\u001b[0m\u001b[0;34m:\u001b[0m\u001b[0;34m\u001b[0m\u001b[0;34m\u001b[0m\u001b[0m\n\u001b[1;32m     57\u001b[0m                         \u001b[0mh_0\u001b[0m \u001b[0;34m=\u001b[0m \u001b[0mVariable\u001b[0m\u001b[0;34m(\u001b[0m\u001b[0mtorch\u001b[0m\u001b[0;34m.\u001b[0m\u001b[0mzeros\u001b[0m\u001b[0;34m(\u001b[0m\u001b[0;36m2\u001b[0m\u001b[0;34m,\u001b[0m \u001b[0mself\u001b[0m\u001b[0;34m.\u001b[0m\u001b[0mbatch_size\u001b[0m\u001b[0;34m,\u001b[0m \u001b[0mself\u001b[0m\u001b[0;34m.\u001b[0m\u001b[0mhidden_size\u001b[0m\u001b[0;34m)\u001b[0m\u001b[0;34m.\u001b[0m\u001b[0mcuda\u001b[0m\u001b[0;34m(\u001b[0m\u001b[0;34m)\u001b[0m\u001b[0;34m)\u001b[0m \u001b[0;31m# Initial hidden state of the LSTM\u001b[0m\u001b[0;34m\u001b[0m\u001b[0;34m\u001b[0m\u001b[0m\n",
      "\u001b[0;31mRuntimeError\u001b[0m: number of dims don't match in permute"
     ]
    }
   ]
  },
  {
   "cell_type": "code",
   "metadata": {
    "id": "_4tR04MsLdFR",
    "colab_type": "code",
    "colab": {}
   },
   "source": [
    ""
   ],
   "execution_count": 0,
   "outputs": []
  }
 ]
}